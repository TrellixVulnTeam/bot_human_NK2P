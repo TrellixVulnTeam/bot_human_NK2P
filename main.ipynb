{
 "metadata": {
  "language_info": {
   "codemirror_mode": {
    "name": "ipython",
    "version": 3
   },
   "file_extension": ".py",
   "mimetype": "text/x-python",
   "name": "python",
   "nbconvert_exporter": "python",
   "pygments_lexer": "ipython3",
   "version": "3.6.9-final"
  },
  "orig_nbformat": 2,
  "kernelspec": {
   "name": "Python 3.6.9 64-bit ('test': venv)",
   "display_name": "Python 3.6.9 64-bit ('test': venv)",
   "metadata": {
    "interpreter": {
     "hash": "3bd393dcd0585e776f775a92659209f43593a96296bc98d5242a7b2fd7ea15e7"
    }
   }
  }
 },
 "nbformat": 4,
 "nbformat_minor": 2,
 "cells": [
  {
   "cell_type": "code",
   "execution_count": 14,
   "metadata": {},
   "outputs": [],
   "source": [
    "import io\n",
    "import sys\n",
    "import os\n",
    "import spacy\n",
    "import numpy as np\n",
    "import pandas as pd\n",
    "import matplotlib.pyplot as plt\n",
    "import seaborn as sns\n",
    "from tqdm import tqdm\n",
    "from collections import Counter\n",
    "from imblearn.over_sampling import RandomOverSampler\n",
    "from utils.text_analysis import TextAnalysis\n",
    "from sklearn.feature_extraction.text import CountVectorizer\n",
    "from sklearn.feature_extraction.text import TfidfVectorizer\n",
    "from sklearn.model_selection import train_test_split\n",
    "from sklearn.linear_model import LogisticRegression \n",
    "from sklearn.model_selection import cross_val_score\n",
    "from sklearn.metrics import accuracy_score, recall_score, f1_score, precision_score\n",
    "from sklearn import metrics\n",
    "from sklearn.metrics import classification_report\n",
    "from sklearn.metrics import confusion_matrix\n",
    "\n"
   ]
  },
  {
   "cell_type": "code",
   "execution_count": 15,
   "metadata": {},
   "outputs": [
    {
     "output_type": "stream",
     "name": "stdout",
     "text": [
      "Language: es\nText Analysis: ['emoji', 'tagger', 'parser', 'stemmer', 'ner']\n"
     ]
    },
    {
     "output_type": "execute_result",
     "data": {
      "text/plain": [
       "                              user_id  \\\n",
       "500  b8d7ac3042d45731e05ad00d56e0f8fe   \n",
       "501  9494c5001fbfb868f34a737f69e5ac62   \n",
       "502  b8528a4f489fded49709a7bb94d8e25f   \n",
       "503  de5c5734d56acc5da30f086f95646805   \n",
       "504  7960cc1f636243b5d8f22efeb0dec6e9   \n",
       "..                                ...   \n",
       "995  3531c7bb89c410da8592642c32a5e1f8   \n",
       "996  1b8ebbab6ebe891a66c18e3965bf3fb9   \n",
       "997  5631ded2b52f1692e77de2eb8d89c3d3   \n",
       "998  a5c1637f723544a64c4da1b8ddfb3dd8   \n",
       "999  981306abb546911d4162ed4ba7ebdec9   \n",
       "\n",
       "                                                tweets  is_human  \n",
       "500  ['RT @PoeticaAcciones: Hay que dedicarle más t...         1  \n",
       "501  ['@duxativa .Esta es la manera mas eficaz de e...         1  \n",
       "502  ['En Adventistas.cl: Amigos de Esperanza en Nu...         0  \n",
       "503  ['El PRD presentará mañana ante el Instituto F...         0  \n",
       "504  ['El Gobierno deniega el indulto a ‘los Albert...         0  \n",
       "..                                                 ...       ...  \n",
       "995  ['Como cuando tu ídolo no te deja en visto htt...         1  \n",
       "996  ['#ad Anbang retira de la puja por Starwood y ...         0  \n",
       "997  ['RT @accionlibertad: #RostrosDeLaInjusticia |...         1  \n",
       "998  ['RT @hurgamemoriaPE: Si tiene tan buena recom...         1  \n",
       "999  ['Me enamoré, no fue de ti, sino de tus mentir...         0  \n",
       "\n",
       "[500 rows x 3 columns]"
      ],
      "text/html": "<div>\n<style scoped>\n    .dataframe tbody tr th:only-of-type {\n        vertical-align: middle;\n    }\n\n    .dataframe tbody tr th {\n        vertical-align: top;\n    }\n\n    .dataframe thead th {\n        text-align: right;\n    }\n</style>\n<table border=\"1\" class=\"dataframe\">\n  <thead>\n    <tr style=\"text-align: right;\">\n      <th></th>\n      <th>user_id</th>\n      <th>tweets</th>\n      <th>is_human</th>\n    </tr>\n  </thead>\n  <tbody>\n    <tr>\n      <th>500</th>\n      <td>b8d7ac3042d45731e05ad00d56e0f8fe</td>\n      <td>['RT @PoeticaAcciones: Hay que dedicarle más t...</td>\n      <td>1</td>\n    </tr>\n    <tr>\n      <th>501</th>\n      <td>9494c5001fbfb868f34a737f69e5ac62</td>\n      <td>['@duxativa .Esta es la manera mas eficaz de e...</td>\n      <td>1</td>\n    </tr>\n    <tr>\n      <th>502</th>\n      <td>b8528a4f489fded49709a7bb94d8e25f</td>\n      <td>['En Adventistas.cl: Amigos de Esperanza en Nu...</td>\n      <td>0</td>\n    </tr>\n    <tr>\n      <th>503</th>\n      <td>de5c5734d56acc5da30f086f95646805</td>\n      <td>['El PRD presentará mañana ante el Instituto F...</td>\n      <td>0</td>\n    </tr>\n    <tr>\n      <th>504</th>\n      <td>7960cc1f636243b5d8f22efeb0dec6e9</td>\n      <td>['El Gobierno deniega el indulto a ‘los Albert...</td>\n      <td>0</td>\n    </tr>\n    <tr>\n      <th>...</th>\n      <td>...</td>\n      <td>...</td>\n      <td>...</td>\n    </tr>\n    <tr>\n      <th>995</th>\n      <td>3531c7bb89c410da8592642c32a5e1f8</td>\n      <td>['Como cuando tu ídolo no te deja en visto htt...</td>\n      <td>1</td>\n    </tr>\n    <tr>\n      <th>996</th>\n      <td>1b8ebbab6ebe891a66c18e3965bf3fb9</td>\n      <td>['#ad Anbang retira de la puja por Starwood y ...</td>\n      <td>0</td>\n    </tr>\n    <tr>\n      <th>997</th>\n      <td>5631ded2b52f1692e77de2eb8d89c3d3</td>\n      <td>['RT @accionlibertad: #RostrosDeLaInjusticia |...</td>\n      <td>1</td>\n    </tr>\n    <tr>\n      <th>998</th>\n      <td>a5c1637f723544a64c4da1b8ddfb3dd8</td>\n      <td>['RT @hurgamemoriaPE: Si tiene tan buena recom...</td>\n      <td>1</td>\n    </tr>\n    <tr>\n      <th>999</th>\n      <td>981306abb546911d4162ed4ba7ebdec9</td>\n      <td>['Me enamoré, no fue de ti, sino de tus mentir...</td>\n      <td>0</td>\n    </tr>\n  </tbody>\n</table>\n<p>500 rows × 3 columns</p>\n</div>"
     },
     "metadata": {},
     "execution_count": 15
    }
   ],
   "source": [
    "ta = TextAnalysis('es')\n",
    "data_raw = pd.read_csv('data.csv')\n",
    "data_raw.iloc[500:1000]"
   ]
  },
  {
   "cell_type": "code",
   "execution_count": 16,
   "metadata": {},
   "outputs": [
    {
     "output_type": "stream",
     "name": "stderr",
     "text": [
      "100%|██████████| 3000/3000 [00:21<00:00, 138.51it/s]\n"
     ]
    }
   ],
   "source": [
    "setting = {'url': True, 'mention': True, 'emoji': True, 'hashtag': True, 'stopwords': False, 'relabel': True} \n",
    "list_sentences = []\n",
    "for row in tqdm(data_raw['tweets'].to_list()):\n",
    "    text = ta.clean_text(row, **setting)\n",
    "    #print('Text org: {0} \\nTex clean: {1}'.format(row, text))\n",
    "    list_sentences.append(text)"
   ]
  },
  {
   "cell_type": "code",
   "execution_count": 18,
   "metadata": {
    "tags": []
   },
   "outputs": [],
   "source": [
    " x = list_sentences\n",
    " y = data_raw['is_human'].to_list()"
   ]
  },
  {
   "cell_type": "code",
   "execution_count": 21,
   "metadata": {},
   "outputs": [
    {
     "output_type": "stream",
     "name": "stdout",
     "text": [
      "**Replica y_train: [(0, 1500), (1, 1500)]\n"
     ]
    }
   ],
   "source": [
    " print('**Replica y_train:', sorted(Counter(y).items()))"
   ]
  },
  {
   "cell_type": "code",
   "execution_count": 19,
   "metadata": {},
   "outputs": [
    {
     "output_type": "stream",
     "name": "stdout",
     "text": [
      "**Replica train: [(0, 1050), (1, 1050)], size 2100\n**Replica test: [(0, 450), (1, 450)], size 900\n"
     ]
    }
   ],
   "source": [
    "x_train, x_test, y_train, y_test = train_test_split(x, y, test_size=0.30, random_state=8675309)\n",
    "print('**Replica train: {0}, size {1}'.format(sorted(Counter(y_train).items()), len(y_train)))\n",
    "print('**Replica test: {0}, size {1}'.format(sorted(Counter(y_test).items()), len(y_test)))"
   ]
  },
  {
   "source": [
    "# Feature in Bag of words"
   ],
   "cell_type": "markdown",
   "metadata": {}
  },
  {
   "cell_type": "code",
   "execution_count": 25,
   "metadata": {},
   "outputs": [],
   "source": [
    "vec = CountVectorizer(min_df=5, ngram_range=(1,3), max_features=5000, strip_accents='unicode', lowercase =True, analyzer='word')\n",
    "vec.fit(x_train)\n",
    "x_train = vec.transform(x_train)\n",
    "x_test = vec.transform(x_test)\n"
   ]
  },
  {
   "cell_type": "code",
   "execution_count": 26,
   "metadata": {
    "tags": [
     "outputPrepend"
    ]
   },
   "outputs": [
    {
     "output_type": "stream",
     "name": "stdout",
     "text": [
      "on', 'open', 'operacion', 'opinion', 'oportunidad', 'oportunidades', 'oposicion', 'or', 'orden', 'organizacion', 'orgullo', 'origen', 'original', 'orlando', 'oro', 'ortega', 'os', 'oscar', 'otra', 'otra vez', 'otras', 'otro', 'otros', 'our', 'out', 'oye', 'pa', 'pablo', 'paciencia', 'pacto', 'padre', 'padres', 'paga', 'pagar', 'pagina', 'pago', 'pais', 'pais url', 'paises', 'palabra', 'palabras', 'pan', 'pantalla', 'papa', 'papas', 'papel', 'par', 'par de', 'para', 'para el', 'para el de', 'para este', 'para evitar', 'para hacer', 'para hashtag', 'para hashtag de', 'para hoy', 'para hoy en', 'para ir', 'para la', 'para laborar', 'para laborar en', 'para las', 'para los', 'para mention', 'para mi', 'para no', 'para poder', 'para que', 'para que no', 'para ser', 'para su', 'para ti', 'para todos', 'para un', 'para una', 'para ver', 'paraguay', 'parcialmente', 'parcialmente nublado', 'parcialmente nublado hashtag', 'parcialmente nublado mas', 'parece', 'parece que', 'parecen', 'parecer', 'paredes', 'pareja', 'paris', 'parlamento', 'paro', 'parque', 'parte', 'parte de', 'parte de la', 'parte del', 'partes', 'participa', 'participacion', 'participar', 'partido', 'partido de', 'partidos', 'partir', 'partir de', 'pasa', 'pasado', 'pasan', 'pasando', 'pasar', 'pase', 'paseo', 'pasion', 'paso', 'pasos', 'past', 'patria', 'paz', 'pedido', 'pedir', 'pedro', 'pedro sanchez', 'pega', 'pelea', 'pelicula', 'peliculas', 'peligro', 'pelo', 'pena', 'pena nieto', 'penal', 'pensamiento', 'pensamientos', 'pensando', 'pensar', 'pensar en', 'pensar que', 'pense', 'pensiones', 'people', 'peor', 'peor que', 'pequena', 'pequeno', 'pequenos', 'per', 'perder', 'perdida', 'perdido', 'perdio', 'perdiste', 'perdiste esta', 'perdiste esta en', 'perdon', 'perez', 'perfecta', 'perfecto', 'perfil', 'perfil laboral', 'perfil laboral envia', 'periodismo', 'periodista', 'periodistas', 'permite', 'pero', 'pero con', 'pero de', 'pero el', 'pero en', 'pero es', 'pero la', 'pero lo', 'pero me', 'pero no', 'pero que', 'pero se', 'pero si', 'perro', 'perros', 'persona', 'persona que', 'personaje', 'personal', 'personas', 'personas en', 'personas que', 'peru', 'pesar', 'pesar de', 'pese', 'peso', 'pesos', 'petro', 'pfeiffer', 'pfeiffer url', 'pide', 'piden', 'pidiendo', 'pidio', 'pido', 'pie', 'piedra', 'piel', 'piensa', 'piensan', 'pienso', 'pierdas', 'pierde', 'pies', 'pinche', 'pinera', 'piso', 'piso si', 'piso si rebota', 'pizarra', 'placer', 'plan', 'plan de', 'planes', 'planeta', 'plata', 'plataforma', 'playa', 'plaza', 'plaza de', 'please', 'plena', 'pleno', 'pm', 'po', 'poblacion', 'pobre', 'pobres', 'pobreza', 'pocas', 'poco', 'poco de', 'pocos', 'podemos', 'poder', 'podes', 'podra', 'podras', 'podria', 'podrian', 'polemica', 'policia', 'policias', 'politica', 'politica de', 'politicas', 'politico', 'politicos', 'pone', 'ponen', 'poner', 'pongo', 'popular', 'por', 'por ahi', 'por ciento', 'por ejemplo', 'por el', 'por eso', 'por favor', 'por fin', 'por hashtag', 'por la', 'por la senda', 'por las', 'por lo', 'por lo que', 'por los', 'por mas', 'por mention', 'por mention url', 'por mi', 'por no', 'por parte', 'por primera', 'por primera vez', 'por que', 'por que no', 'por san', 'por seguirme', 'por seguirme en', 'por ser', 'por si', 'por su', 'por sus', 'por ti', 'por todo', 'por tu', 'por un', 'por una', 'por url', 'por url the', 'porque', 'porque el', 'porque es', 'porque la', 'porque no', 'portugal', 'posible', 'post', 'potter', 'pp', 'pr', 'practica', 'pre', 'precio', 'precio de', 'precio de la', 'precio del', 'precio del dolar', 'precio eur', 'precio eur emoji', 'precio eur precio', 'precios', 'precisa', 'precisan', 'prefiero', 'pregunta', 'preguntas', 'pregunto', 'premio', 'premio nobel', 'premios', 'prensa', 'prensa url', 'prepara', 'presencia', 'presenta', 'presentacion', 'presentacion de', 'presente', 'presento', 'presidencia', 'presidenta', 'presidente', 'presidente de', 'presidente de la', 'presidente del', 'presion', 'preso', 'presos', 'presupuesto', 'preview', 'preview url', 'preview url unete', 'pri', 'primavera', 'primer', 'primer ministro', 'primera', 'primera vez', 'primera vez en', 'primeras', 'primero', 'primeros', 'primeros rt', 'primeros rt los', 'princesa', 'principal', 'principales', 'principio', 'prisa', 'prision', 'pro', 'problema', 'problemas', 'proceso', 'proceso de', 'produccion', 'producto', 'profesional', 'profesionales', 'profesor', 'programa', 'programa de', 'programador', 'pronto', 'propia', 'propio', 'propone', 'proposito', 'propuesta', 'propuestas', 'proteccion', 'protesta', 'protestas', 'proxima', 'proximo', 'proyecto', 'proyecto de', 'proyectos', 'prueba', 'pruebas', 'psoe', 'publica', 'publicado', 'publicas', 'publicidad', 'publico', 'publicos', 'pudimos', 'pudimos encontrar', 'pudimos encontrar en', 'pudo', 'pueblo', 'pueblos', 'pueda', 'puede', 'puede ser', 'pueden', 'puedes', 'puedo', 'puente', 'puerta', 'puertas', 'puerto', 'pues', 'puesta', 'puesto', 'puestos', 'puigdemont', 'punta', 'punto', 'punto de', 'puntos', 'puro', 'puso', 'puta', 'qu', 'que', 'que ahora', 'que al', 'que alguien', 'que con', 'que cuando', 'que de', 'que dice', 'que dios', 'que el', 'que en', 'que era', 'que eres', 'que es', 'que es el', 'que es un', 'que esta', 'que estan', 'que estas', 'que este', 'que estoy', 'que fue', 'que ha', 'que hace', 'que hacen', 'que hacer', 'que han', 'que hashtag', 'que hay', 'que hay que', 'que haya', 'que he', 'que hoy', 'que la', 'que la gente', 'que las', 'que le', 'que les', 'que lo', 'que los', 'que mas', 'que me', 'que mention', 'que mi', 'que nadie', 'que no', 'que no es', 'que no me', 'que no se', 'que no te', 'que nos', 'que nunca', 'que para', 'que pasa', 'que paso', 'que por', 'que puede', 'que quiere', 'que rt', 'que rt mention', 'que se', 'que sea', 'que ser', 'que si', 'que siempre', 'que siguen', 'que siguen por', 'que solicitas', 'que solicitas esta', 'que solo', 'que son', 'que soy', 'que su', 'que tal', 'que te', 'que tenemos', 'que tengo', 'que tiene', 'que tienen', 'que tienes', 'que todo', 'que todos', 'que tu', 'que un', 'que una', 'que uno', 'que url', 'que va', 'que van', 'que ver', 'que viene', 'que ya', 'que yo', 'queda', 'quedan', 'quedar', 'quede', 'quedo', 'queremos', 'querer', 'queria', 'querido', 'quien', 'quien es', 'quien no', 'quien se', 'quienes', 'quiera', 'quieras', 'quiere', 'quieren', 'quieres', 'quiero', 'quiero que', 'quimico', 'quisiera', 'quita', 'quizas', 'radio', 'rafael', 'rajoy', 'ramon', 'rapido', 'raro', 'rato', 'razon', 'razones', 're', 'real', 'real madrid', 'realidad', 'realizar', 'realizara', 'realizara follow', 'realizara follow automatico', 'realmente', 'rebota', 'rebota buscara', 'rebota buscara subira', 'rechaza', 'recibe', 'recibio', 'recibir', 'recibiras', 'recibiras reply', 'recibiras reply veces', 'recien', 'recomendado', 'recomendare', 'recomendare mas', 'recomendare mas de', 'recomiendo', 'reconoce', 'record', 'recordar', 'recuerda', 'recuerdo', 'recuerdos', 'recupera', 'recuperar', 'recursos', 'red', 'redes', 'redes sociales', 'referendum', 'reforma', 'reformas', 'refugiados', 'regalar', 'regalo', 'regalos', 'reggae', 'regimen', 'region', 'registra', 'registrado', 'registrado las', 'registrado las url', 'registro', 'regresa', 'regreso', 'reina', 'reino', 'reir', 'relacion', 'relaciones', 'remix', 'renuncia', 'reply', 'reply veces', 'reply veces ni', 'reporte', 'reporte del', 'reporte del trafico', 'representa', 'republica', 'requiere', 'rescate', 'reserva', 'reserva ya', 'reservadas', 'reservadas emoji', 'reservadas emoji emoji', 'reservas', 'respecto', 'respeto', 'responde', 'responsabilidad', 'responsable', 'respuesta', 'resto', 'resulta', 'resultado', 'resultados', 'resumen', 'reto', 'retweet', 'retwitteado', 'reunion', 'revela', 'revolucion', 'rey', 'reyes', 'rica', 'ricardo', 'rico', 'riesgo', 'rio', 'risa', 'rival', 'river', 'rivera', 'robar', 'roberto', 'robo', 'rodriguez', 'roja', 'rojo', 'rompe', 'ropa', 'rosa', 'rostro', 'roto', 'rt', 'rt consigue', 'rt consigue mas', 'rt los', 'rt los recomendare', 'rt mention', 'rt mention ahora', 'rt mention al', 'rt mention aqui', 'rt mention asi', 'rt mention atencion', 'rt mention como', 'rt mention con', 'rt mention cuando', 'rt mention de', 'rt mention desde', 'rt mention el', 'rt mention emoji', 'rt mention en', 'rt mention es', 'rt mention esta', 'rt mention este', 'rt mention esto', 'rt mention estoy', 'rt mention feliz', 'rt mention gracias', 'rt mention hashtag', 'rt mention hay', 'rt mention hola', 'rt mention hoy', 'rt mention la', 'rt mention las', 'rt mention lo', 'rt mention los', 'rt mention manana', 'rt mention mas', 'rt mention me', 'rt mention mention', 'rt mention mi', 'rt mention nahuatl', 'rt mention no', 'rt mention nos', 'rt mention nunca', 'rt mention para', 'rt mention perro', 'rt mention por', 'rt mention que', 'rt mention quien', 'rt mention quiero', 'rt mention rt', 'rt mention se', 'rt mention si', 'rt mention solo', 'rt mention soy', 'rt mention te', 'rt mention the', 'rt mention todo', 'rt mention todos', 'rt mention un', 'rt mention una', 'rt mention url', 'rt mention video', 'rt mention ya', 'rt mention yo', 'rt rt', 'rt te', 'rt te mando', 'rueda', 'rueda de', 'rueda de prensa', 'rumbo', 'rusia', 'ruta', 'sabado', 'sabe', 'sabe que', 'sabemos', 'sabemos que', 'saben', 'saber', 'saber que', 'sabes', 'sabes de', 'sabes de alguien', 'sabes que', 'sabia', 'sabias', 'sabor', 'sabor de', 'sabor de unos', 'saca', 'sacar', 'saco', 'sala', 'salario', 'sale', 'salen', 'salga', 'salida', 'salio', 'salir', 'salir de', 'salta', 'salud', 'saludo', 'saludos', 'salvador', 'salvador de', 'salvador de jujuy', 'salvaje', 'salvaje ha', 'salvaje ha aparecido', 'salvar', 'salvo', 'samsung', 'samsung galaxy', 'san', 'san juan', 'san juan registrado', 'san salvador', 'san salvador de', 'sanchez', 'sanciones', 'sangre', 'santa', 'santiago', 'santo', 'santo domingo', 'santos', 'se', 'se busca', 'se debe', 'se encuentra', 'se esta', 'se fue', 'se ha', 'se hace', 'se han', 'se la', 'se le', 'se les', 'se llama', 'se lo', 'se me', 'se nos', 'se precisa', 'se puede', 'se pueden', 'se que', 'se queda', 'se realizara', 'se realizara follow', 'se sabe', 'se si', 'se siente', 'se solicita', 'se te', 'se trata', 'se trata de', 'se url', 'se va', 'se van', 'se ve', 'se viene', 'sea', 'sean', 'seas', 'sebastian', 'secretaria', 'secretario', 'secreto', 'sector', 'sede', 'seguidores', 'seguidores rt', 'seguidores solo', 'seguidores solo si', 'seguimos', 'seguir', 'seguir leyendo', 'seguir leyendo url', 'seguirme', 'seguirme en', 'seguirme en la', 'segun', 'segunda', 'segundo', 'segundos', 'seguridad', 'seguro', 'seguro que', 'seis', 'seleccion', 'seleccion de', 'semana', 'semana de', 'semana url', 'semanas', 'senado', 'senador', 'senala', 'senda', 'senda trazada', 'senda trazada mention', 'senior', 'senor', 'senora', 'senores', 'sentencia', 'sentido', 'sentir', 'sentir de', 'sentir de unos', 'septiembre', 'ser', 'ser el', 'ser humano', 'ser la', 'ser un', 'ser una', 'sera', 'sera el', 'seran', 'sergio', 'seria', 'serie', 'series', 'serio', 'servicio', 'servicios', 'sesion', 'set', 'sevilla', 'sexo', 'sexual', 'show', 'si', 'si cumples', 'si cumples con', 'si el', 'si en', 'si es', 'si hay', 'si la', 'si lo', 'si los', 'si me', 'si me sigues', 'si no', 'si que', 'si quieres', 'si rebota', 'si rebota buscara', 'si sabes', 'si sabes de', 'si se', 'si te', 'si tu', 'sidney', 'sido', 'siempre', 'siendo', 'siente', 'siento', 'siete', 'siga', 'sigan', 'siglo', 'significa', 'sigo', 'sigue', 'sigue en', 'siguen', 'siguen por', 'siguen por la', 'sigues', 'sigues hashtag', 'siguiente', 'silencio', 'silva', 'simon', 'simple', 'simplemente', 'sin', 'sin duda', 'sino', 'siquiera', 'siria', 'sirve', 'sismo', 'sismo de', 'sismo de con', 'sismo en', 'sistema', 'sistema de', 'sistemas', 'sitio', 'situacion', 'so', 'sobre', 'sobre el', 'sobre la', 'sobre las', 'sobre los', 'sobre todo', 'sobreviniente', 'sobreviniente nind', 'social', 'sociales', 'socialismo', 'sociedad', 'sol', 'sola', 'solamente', 'solar', 'soledad', 'solicita', 'solicitas', 'solicitas esta', 'solicitas esta mal', 'solidaridad', 'solo', 'solo en', 'solo para', 'solo por', 'solo se', 'solo si', 'solo si me', 'solucion', 'sombra', 'somos', 'son', 'son las', 'son los', 'sonar', 'sonido', 'sonido de', 'sonido de unos', 'sonreir', 'sonrisa', 'sorpresa', 'sorteo', 'sos', 'soy', 'soy el', 'soy un', 'squirtle', 'squirtle salvaje', 'squirtle salvaje ha', 'sr', 'star', 'stats', 'su', 'su casa', 'su hijo', 'su primer', 'su vida', 'suarez', 'sube', 'subir', 'subira', 'sucede', 'sueldo', 'suelo', 'suena', 'sueno', 'suenos', 'suerte', 'suficiente', 'sufre', 'sufrir', 'suma', 'super', 'supera', 'superior', 'supremo', 'supuesto', 'sur', 'sur de', 'sus', 'sus hijos', 'ta', 'tal', 'tal vez', 'talento', 'tambien', 'tampoco', 'tan', 'tanta', 'tantas', 'tanto', 'tantos', 'tarde', 'tarde bueno', 'tarde bueno hashtag', 'tarde parcialmente', 'tarde parcialmente nublado', 'tardes', 'tarea', 'te', 'te amo', 'te esta', 'te gusta', 'te hace', 'te lo', 'te mando', 'te mando seguidores', 'te quiero', 'teatro', 'techo', 'tecnica', 'tecnico', 'tecnologia', 'telefono', 'telegram', 'telegram url', 'telegram url hashtag', 'television', 'tema', 'tema de', 'temas', 'temporada', 'temporada de', 'temprano', 'tendencia', 'tendra', 'tenemos', 'tenemos que', 'tener', 'tener que', 'tener un', 'tenes', 'tenga', 'tengan', 'tengas', 'tengo', 'tengo que', 'tenia', 'tenian', 'tenido', 'tercer', 'tercera', 'termina', 'terminar', 'termino', 'terremoto', 'terrible', 'terrorismo', 'th', 'thank', 'thank you', 'that', 'the', 'the gamers', 'the gamers daily', 'the week', 'this', 'ti', 'tiempo', 'tiempo de', 'tiempo para', 'tiempo que', 'tiempos', 'tienda', 'tiene', 'tiene el', 'tiene la', 'tiene que', 'tiene un', 'tienen', 'tienen que', 'tienes', 'tienes que', 'tierra', 'time', 'times', 'tipico', 'tipo', 'tipo de', 'tipos', 'tiro', 'tiroteo', 'titular', 'titulo', 'to', 'to enter', 'to win', 'toca', 'toda', 'toda la', 'todas', 'todas las', 'todas las ofertas', 'todavia', 'todavia no', 'todo', 'todo el', 'todo el dia', 'todo el mundo', 'todo en', 'todo es', 'todo lo', 'todo lo que', 'todos', 'todos los', 'todos los companeros', 'todos los dias', 'todos los que', 'toma', 'tomar', 'tomas', 'tomo', 'top', 'toque', 'tormentas', 'torneo', 'total', 'totalmente', 'trabaja', 'trabajadores', 'trabajando', 'trabajar', 'trabajar como', 'trabajo', 'trabajo de', 'trae', 'trafico', 'trafico hashtag', 'trafico hashtag hashtag', 'tragedia', 'trailer', 'transito', 'transparencia', 'transporte', 'tras', 'tras el', 'tras la', 'trata', 'trata de', 'tratar', 'traves', 'traves de', 'trazada', 'trazada mention', 'trazada mention gracias', 'tremendo', 'tren', 'tres', 'tribunal', 'triste', 'tristeza', 'triunfo', 'trump', 'tts', 'tts espana', 'tts espana hashtag', 'tu', 'tu cv', 'tu cv emoji', 'tu no', 'tu vida', 'tuit', 'tuits', 'turismo', 'turquia', 'tus', 'tuve', 'tuvo', 'tuyo', 'tv', 'tweet', 'tweets', 'twitter', 'ud', 'ud emoji', 'ud emoji emoji', 'ud emoji hashtag', 'ud url', 'ue', 'uf', 'ufd', 'ufd ufd', 'ufd ufd ufd', 'ufe', 'ultima', 'ultimas', 'ultimas hashtag', 'ultimas hashtag url', 'ultimo', 'ultimos', 'un', 'un abrazo', 'un amigo', 'un ano', 'un atraco', 'un beso', 'un buen', 'un de', 'un dia', 'un en', 'un gobierno', 'un gran', 'un grupo', 'un grupo de', 'un hashtag', 'un hombre', 'un libro', 'un mes', 'un momento', 'un nino', 'un nuevo', 'un pais', 'un par', 'un par de', 'un partido', 'un poco', 'un poco de', 'un rt', 'un solo', 'un squirtle', 'un squirtle salvaje', 'un url', 'un video', 'un vistazo', 'una', 'una buena', 'una cosa', 'una de', 'una de las', 'una foto', 'una gran', 'una hashtag', 'una mujer', 'una nueva', 'una persona', 'una semana', 'una sola', 'una vez', 'una vida', 'unas', 'une', 'unete', 'unete mention', 'unete mention descargar', 'unete mention estreno', 'unete mention url', 'unete mention video', 'unfollowers', 'unica', 'unico', 'unico que', 'unidad', 'unido', 'unidos', 'union', 'universal', 'universidad', 'universitario', 'universo', 'uno', 'uno de', 'uno de los', 'unos', 'up', 'urgente', 'uribe', 'url', 'url aplicaciones', 'url aplicaciones noticias', 'url asi', 'url by', 'url by hashtag', 'url como', 'url con', 'url cuando', 'url de', 'url el', 'url el observador', 'url el precio', 'url emoji', 'url emoji emoji', 'url en', 'url en mention', 'url eres', 'url es', 'url este', 'url gracias', 'url gracias mention', 'url hashtag', 'url hashtag asi', 'url hashtag como', 'url hashtag de', 'url hashtag el', 'url hashtag en', 'url hashtag hashtag', 'url hashtag inf', 'url hashtag la', 'url hashtag las', 'url hashtag ll', 'url hashtag los', 'url hashtag mar', 'url hashtag mas', 'url hashtag mention', 'url hashtag muere', 'url hashtag que', 'url hashtag rt', 'url hashtag se', 'url hashtag un', 'url hashtag una', 'url hashtag url', 'url hay', 'url hoy', 'url https', 'url https rt', 'url la', 'url la frase', 'url las', 'url lo', 'url los', 'url mas', 'url mas en', 'url me', 'url mention', 'url mention el', 'url mention emoji', 'url mention en', 'url mention esta', 'url mention hashtag', 'url mention la', 'url mention mention', 'url mention no', 'url mention rt', 'url mention url', 'url mi', 'url no', 'url para', 'url por', 'url por mention', 'url que', 'url reporte', 'url reporte del', 'url rt', 'url rt mention', 'url se', 'url se precisa', 'url si', 'url si cumples', 'url sismo', 'url sismo de', 'url te', 'url the', 'url un', 'url un squirtle', 'url una', 'url unete', 'url unete mention', 'url url', 'url url en', 'url url hashtag', 'url url la', 'url url mention', 'url url rt', 'url url sismo', 'url url url', 'url via', 'url via mention', 'url video', 'url ya', 'url yo', 'uruguay', 'us', 'usa', 'usar', 'usgs', 'usgs hashtag', 'usgs hashtag utc', 'uso', 'uso de', 'usted', 'ustedes', 'usuarios', 'utc', 'utc url', 'utc url hashtag', 'uu', 'va', 'va para', 'va ser', 'vacaciones', 'vale', 'valencia', 'valor', 'valores', 'vamos', 'van', 'varias', 'varios', 'vas', 'vaya', 'vayan', 've', 'vea', 'vean', 'veces', 'veces ni', 'veces ni se', 'vecinos', 'vehiculos', 'vemos', 'ven', 'vende', 'vender', 'venezolana', 'venezolano', 'venezolanos', 'venezuela', 'venezuela url', 'venga', 'vengan', 'vengan degollando', 'vengan degollando mention', 'venir', 'venta', 'venta de', 'venta en', 'venta nalberdi', 'venta nalberdi ncompra', 'venta ncambios', 'venta ncambios chaco', 'venta nmaxicambios', 'venta nmaxicambios ncompra', 'ventas', 'veo', 'ver', 'ver el', 'ver la', 'ver que', 'ver si', 'verano', 'verdad', 'verdadera', 'verdadero', 'verde', 'verguenza', 'verlo', 'version', 'verte', 'ves', 'vestido', 'vez', 'vez de', 'vez en', 'vez mas', 'vez que', 'vi', 'via', 'via mention', 'via mention el', 'via mention hashtag', 'via mention mention', 'via mention rt', 'via mention url', 'via url', 'viajar', 'viaje', 'victima', 'victimas', 'victimas de', 'victor', 'victoria', 'vida', 'vida de', 'vida es', 'vida no', 'vida url', 'vidas', 'video', 'video de', 'video el', 'video oficial', 'video oficial url', 'video url', 'video url unete', 'videos', 'vieja', 'viejo', 'viendo', 'viene', 'vienen', 'viento', 'viernes', 'villa', 'vinilo', 'vinilo por', 'vinilo por url', 'vino', 'vio', 'violencia', 'violeta', 'visita', 'vista', 'vistazo', 'viste', 'visto', 'viva', 'vive', 'viven', 'vivienda', 'vivir', 'vivo', 'vivo en', 'voluntad', 'volver', 'volvio', 'vos', 'vos todos', 'vos todos los', 'vosotros', 'vota', 'votar', 'voto', 'votos', 'vox', 'voy', 'voz', 'vs', 'vuelta', 'vuelto', 'vuelve', 'vuelven', 'want', 'was', 'washington', 'we', 'web', 'week', 'what', 'whatsapp', 'when', 'who', 'will', 'william', 'win', 'windows', 'winner', 'with', 'word', 'world', 'worldwide', 'xa', 'xd', 'xq', 'ya', 'ya en', 'ya es', 'ya esta', 'ya lo', 'ya me', 'ya no', 'ya que', 'ya se', 'ya te', 'ya tu', 'yo', 'yo creo', 'yo lo', 'yo me', 'yo no', 'yo quiero', 'yo soy', 'yo tambien', 'yo te', 'york', 'you', 'your', 'youtube', 'zona', 'zona de', 'ريتويت', 'لزيادة']\n"
     ]
    }
   ],
   "source": [
    "print(vec.get_feature_names())"
   ]
  },
  {
   "cell_type": "code",
   "execution_count": 27,
   "metadata": {},
   "outputs": [
    {
     "output_type": "stream",
     "name": "stdout",
     "text": [
      "[[0 0 0 ... 0 0 0]\n [0 0 0 ... 0 0 0]\n [0 0 0 ... 0 0 0]\n ...\n [0 0 0 ... 0 0 0]\n [0 0 0 ... 0 0 0]\n [0 0 0 ... 0 0 0]]\n"
     ]
    }
   ],
   "source": [
    "print(x_train.toarray())"
   ]
  },
  {
   "source": [
    "# Random Over Sampler"
   ],
   "cell_type": "markdown",
   "metadata": {}
  },
  {
   "cell_type": "code",
   "execution_count": 29,
   "metadata": {},
   "outputs": [
    {
     "output_type": "stream",
     "name": "stdout",
     "text": [
      "**RandomOverSampler train: [(0, 1064), (1, 1064)]\n**RandomOverSampler test: [(0, 464), (1, 464)]\n"
     ]
    }
   ],
   "source": [
    "ros = RandomOverSampler(random_state=1000)\n",
    "x_train, y_train = ros.fit_resample(x_train, y_train)\n",
    "x_test, y_test = ros.fit_resample(x_test, y_test)\n",
    "print('**RandomOverSampler train:', sorted(Counter(y_train).items()))\n",
    "print('**RandomOverSampler test:', sorted(Counter(y_test).items()))"
   ]
  },
  {
   "cell_type": "code",
   "execution_count": 30,
   "metadata": {},
   "outputs": [],
   "source": [
    "classifier = LogisticRegression(C=10, solver='lbfgs', multi_class='multinomial',max_iter=1000) \n",
    "classifier.fit(x_train, y_train)\n",
    "y_pred = classifier.predict(x_test)"
   ]
  },
  {
   "source": [
    "# Metrics"
   ],
   "cell_type": "markdown",
   "metadata": {}
  },
  {
   "cell_type": "code",
   "execution_count": 32,
   "metadata": {},
   "outputs": [
    {
     "output_type": "stream",
     "name": "stdout",
     "text": [
      "\nConfusion Matrix\n[[446  18]\n [ 16 448]]\n"
     ]
    }
   ],
   "source": [
    "print('\\nConfusion Matrix')\n",
    "print(confusion_matrix(y_test, y_pred))\n",
    "\n",
    "\n"
   ]
  },
  {
   "cell_type": "code",
   "execution_count": 36,
   "metadata": {},
   "outputs": [
    {
     "output_type": "stream",
     "name": "stdout",
     "text": [
      "\n",
      "Clasification Report\n",
      "              precision    recall  f1-score   support\n",
      "\n",
      "           0       0.97      0.96      0.96       464\n",
      "           1       0.96      0.97      0.96       464\n",
      "\n",
      "    accuracy                           0.96       928\n",
      "   macro avg       0.96      0.96      0.96       928\n",
      "weighted avg       0.96      0.96      0.96       928\n",
      "\n",
      "fin\n"
     ]
    }
   ],
   "source": [
    "print('\\nClasification Report')\n",
    "print(classification_report(y_test, y_pred))\n",
    "cv_score = np.mean(cross_val_score(classifier, x_train,y_train, cv=5, scoring='accuracy'))\n",
    "print('fin')"
   ]
  },
  {
   "cell_type": "code",
   "execution_count": 37,
   "metadata": {},
   "outputs": [
    {
     "output_type": "stream",
     "name": "stdout",
     "text": [
      "Accuracy: 96.0%\nRecall: 96.0%\nPrecision: 96.0%\nF1: 96.0%\n"
     ]
    }
   ],
   "source": [
    "accuracy = accuracy_score(y_test, y_pred)\n",
    "recall = recall_score(y_test, y_pred, average='macro')\n",
    "precision = precision_score(y_test, y_pred, average='weighted')\n",
    "f1 = f1_score(y_test, y_pred, average='weighted')\n",
    "print('Accuracy: {}%'.format(round(accuracy, 2)*100))\n",
    "print('Recall: {}%'.format(round(recall, 2)*100))\n",
    "print('Precision: {}%'.format(round(precision, 2)*100))\n",
    "print('F1: {}%'.format(round(f1, 2)*100))"
   ]
  },
  {
   "cell_type": "code",
   "execution_count": null,
   "metadata": {},
   "outputs": [],
   "source": []
  }
 ]
}